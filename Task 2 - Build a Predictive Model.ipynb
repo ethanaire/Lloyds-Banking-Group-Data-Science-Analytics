{
 "cells": [
  {
   "cell_type": "markdown",
   "metadata": {},
   "source": [
    "# **Task 2**\n",
    "\n",
    "---\n",
    "\n",
    "## **Buidling a Machine Learning Model**\n",
    "\n",
    "This task involves choosing an appropriate algorithm, training the model, and evaluating its performance. The goal is to create a model that can be easily understood and acted on by business stakeholders. \n",
    "\n",
    "The challenge lies in selecting the right machine learning algorithm and fine-tuning it to accurately predict which customers are at risk of leaving. This model will provide actionable insights, enabling the team to develop targeted interventions to retain valuable customers. Specifically, it is important to select the most appropriate machine learning algorithm, which balances predictive accuracy with interpretability"
   ]
  },
  {
   "cell_type": "markdown",
   "metadata": {},
   "source": [
    "### **Data Preparation**\n"
   ]
  },
  {
   "cell_type": "markdown",
   "metadata": {},
   "source": [
    "First, we must load the processed data from Task 1 and resample them with `SMOTE` method to tackle the **class imbalance** issue."
   ]
  },
  {
   "cell_type": "code",
   "execution_count": 13,
   "metadata": {},
   "outputs": [],
   "source": [
    "# Import data processing libraries\n",
    "import pandas as pd\n",
    "import numpy as np\n",
    "import matplotlib.pyplot as plt\n",
    "\n",
    "# Import modeling libraries\n",
    "from sklearn.model_selection import train_test_split, GridSearchCV, cross_val_score\n",
    "from sklearn.linear_model import LogisticRegression\n",
    "from sklearn.ensemble import RandomForestClassifier\n",
    "from xgboost import XGBClassifier\n",
    "from sklearn.metrics import classification_report, confusion_matrix, precision_score, recall_score, f1_score\n",
    "from imblearn.over_sampling import SMOTE\n",
    "\n",
    "# Ignore Warning\n",
    "import warnings\n",
    "warnings.filterwarnings(\"ignore\")"
   ]
  },
  {
   "cell_type": "code",
   "execution_count": 2,
   "metadata": {},
   "outputs": [],
   "source": [
    "# Load processed data\n",
    "df = pd.read_csv(\"Data/processed_churn_csv\")"
   ]
  },
  {
   "cell_type": "markdown",
   "metadata": {},
   "source": [
    "Let's have a look at the current processed data: "
   ]
  },
  {
   "cell_type": "code",
   "execution_count": 3,
   "metadata": {},
   "outputs": [
    {
     "data": {
      "text/html": [
       "<div>\n",
       "<style scoped>\n",
       "    .dataframe tbody tr th:only-of-type {\n",
       "        vertical-align: middle;\n",
       "    }\n",
       "\n",
       "    .dataframe tbody tr th {\n",
       "        vertical-align: top;\n",
       "    }\n",
       "\n",
       "    .dataframe thead th {\n",
       "        text-align: right;\n",
       "    }\n",
       "</style>\n",
       "<table border=\"1\" class=\"dataframe\">\n",
       "  <thead>\n",
       "    <tr style=\"text-align: right;\">\n",
       "      <th></th>\n",
       "      <th>Age</th>\n",
       "      <th>TotalSpent</th>\n",
       "      <th>AvgSpent</th>\n",
       "      <th>NumTransactions</th>\n",
       "      <th>UniqueTransactions</th>\n",
       "      <th>ServiceInteractions</th>\n",
       "      <th>ResolutionRate</th>\n",
       "      <th>LoginFrequency</th>\n",
       "      <th>ChurnStatus</th>\n",
       "      <th>DaysSinceLastLogin</th>\n",
       "      <th>Gender_M</th>\n",
       "      <th>MaritalStatus_Married</th>\n",
       "      <th>MaritalStatus_Single</th>\n",
       "      <th>MaritalStatus_Widowed</th>\n",
       "      <th>IncomeLevel_Low</th>\n",
       "      <th>IncomeLevel_Medium</th>\n",
       "      <th>ServiceUsage_Online Banking</th>\n",
       "      <th>ServiceUsage_Website</th>\n",
       "      <th>AgeGroup_&lt;30</th>\n",
       "      <th>AgeGroup_&gt;50</th>\n",
       "    </tr>\n",
       "  </thead>\n",
       "  <tbody>\n",
       "    <tr>\n",
       "      <th>0</th>\n",
       "      <td>1.229628</td>\n",
       "      <td>-1.159172</td>\n",
       "      <td>2.134218</td>\n",
       "      <td>-1.557954</td>\n",
       "      <td>-1.557954</td>\n",
       "      <td>-0.002451</td>\n",
       "      <td>1.524083</td>\n",
       "      <td>0.575702</td>\n",
       "      <td>0</td>\n",
       "      <td>-1.021557</td>\n",
       "      <td>True</td>\n",
       "      <td>False</td>\n",
       "      <td>True</td>\n",
       "      <td>False</td>\n",
       "      <td>True</td>\n",
       "      <td>False</td>\n",
       "      <td>False</td>\n",
       "      <td>False</td>\n",
       "      <td>False</td>\n",
       "      <td>True</td>\n",
       "    </tr>\n",
       "    <tr>\n",
       "      <th>1</th>\n",
       "      <td>1.426547</td>\n",
       "      <td>0.386676</td>\n",
       "      <td>-0.353258</td>\n",
       "      <td>0.747849</td>\n",
       "      <td>0.747849</td>\n",
       "      <td>-0.002451</td>\n",
       "      <td>1.524083</td>\n",
       "      <td>-1.488513</td>\n",
       "      <td>1</td>\n",
       "      <td>-1.450763</td>\n",
       "      <td>True</td>\n",
       "      <td>True</td>\n",
       "      <td>False</td>\n",
       "      <td>False</td>\n",
       "      <td>True</td>\n",
       "      <td>False</td>\n",
       "      <td>False</td>\n",
       "      <td>True</td>\n",
       "      <td>False</td>\n",
       "      <td>True</td>\n",
       "    </tr>\n",
       "    <tr>\n",
       "      <th>2</th>\n",
       "      <td>-1.658518</td>\n",
       "      <td>0.599310</td>\n",
       "      <td>0.445651</td>\n",
       "      <td>0.363548</td>\n",
       "      <td>0.363548</td>\n",
       "      <td>-0.002451</td>\n",
       "      <td>1.524083</td>\n",
       "      <td>-1.630872</td>\n",
       "      <td>0</td>\n",
       "      <td>-1.260005</td>\n",
       "      <td>True</td>\n",
       "      <td>False</td>\n",
       "      <td>True</td>\n",
       "      <td>False</td>\n",
       "      <td>True</td>\n",
       "      <td>False</td>\n",
       "      <td>False</td>\n",
       "      <td>True</td>\n",
       "      <td>True</td>\n",
       "      <td>False</td>\n",
       "    </tr>\n",
       "    <tr>\n",
       "      <th>3</th>\n",
       "      <td>-1.461599</td>\n",
       "      <td>-0.474645</td>\n",
       "      <td>-0.831840</td>\n",
       "      <td>-0.020752</td>\n",
       "      <td>-0.020752</td>\n",
       "      <td>1.222911</td>\n",
       "      <td>0.347185</td>\n",
       "      <td>-1.702052</td>\n",
       "      <td>0</td>\n",
       "      <td>-0.477897</td>\n",
       "      <td>True</td>\n",
       "      <td>False</td>\n",
       "      <td>False</td>\n",
       "      <td>True</td>\n",
       "      <td>True</td>\n",
       "      <td>False</td>\n",
       "      <td>False</td>\n",
       "      <td>True</td>\n",
       "      <td>True</td>\n",
       "      <td>False</td>\n",
       "    </tr>\n",
       "    <tr>\n",
       "      <th>4</th>\n",
       "      <td>-1.461599</td>\n",
       "      <td>1.007342</td>\n",
       "      <td>0.017448</td>\n",
       "      <td>1.132149</td>\n",
       "      <td>1.132149</td>\n",
       "      <td>-1.227812</td>\n",
       "      <td>-0.829713</td>\n",
       "      <td>1.073961</td>\n",
       "      <td>0</td>\n",
       "      <td>-1.078785</td>\n",
       "      <td>True</td>\n",
       "      <td>False</td>\n",
       "      <td>False</td>\n",
       "      <td>False</td>\n",
       "      <td>False</td>\n",
       "      <td>True</td>\n",
       "      <td>False</td>\n",
       "      <td>True</td>\n",
       "      <td>True</td>\n",
       "      <td>False</td>\n",
       "    </tr>\n",
       "  </tbody>\n",
       "</table>\n",
       "</div>"
      ],
      "text/plain": [
       "        Age  TotalSpent  AvgSpent  NumTransactions  UniqueTransactions  \\\n",
       "0  1.229628   -1.159172  2.134218        -1.557954           -1.557954   \n",
       "1  1.426547    0.386676 -0.353258         0.747849            0.747849   \n",
       "2 -1.658518    0.599310  0.445651         0.363548            0.363548   \n",
       "3 -1.461599   -0.474645 -0.831840        -0.020752           -0.020752   \n",
       "4 -1.461599    1.007342  0.017448         1.132149            1.132149   \n",
       "\n",
       "   ServiceInteractions  ResolutionRate  LoginFrequency  ChurnStatus  \\\n",
       "0            -0.002451        1.524083        0.575702            0   \n",
       "1            -0.002451        1.524083       -1.488513            1   \n",
       "2            -0.002451        1.524083       -1.630872            0   \n",
       "3             1.222911        0.347185       -1.702052            0   \n",
       "4            -1.227812       -0.829713        1.073961            0   \n",
       "\n",
       "   DaysSinceLastLogin  Gender_M  MaritalStatus_Married  MaritalStatus_Single  \\\n",
       "0           -1.021557      True                  False                  True   \n",
       "1           -1.450763      True                   True                 False   \n",
       "2           -1.260005      True                  False                  True   \n",
       "3           -0.477897      True                  False                 False   \n",
       "4           -1.078785      True                  False                 False   \n",
       "\n",
       "   MaritalStatus_Widowed  IncomeLevel_Low  IncomeLevel_Medium  \\\n",
       "0                  False             True               False   \n",
       "1                  False             True               False   \n",
       "2                  False             True               False   \n",
       "3                   True             True               False   \n",
       "4                  False            False                True   \n",
       "\n",
       "   ServiceUsage_Online Banking  ServiceUsage_Website  AgeGroup_<30  \\\n",
       "0                        False                 False         False   \n",
       "1                        False                  True         False   \n",
       "2                        False                  True          True   \n",
       "3                        False                  True          True   \n",
       "4                        False                  True          True   \n",
       "\n",
       "   AgeGroup_>50  \n",
       "0          True  \n",
       "1          True  \n",
       "2         False  \n",
       "3         False  \n",
       "4         False  "
      ]
     },
     "execution_count": 3,
     "metadata": {},
     "output_type": "execute_result"
    }
   ],
   "source": [
    "df.head()"
   ]
  },
  {
   "cell_type": "markdown",
   "metadata": {},
   "source": [
    "We create different subsets to hold the predictive and target variable:"
   ]
  },
  {
   "cell_type": "code",
   "execution_count": 4,
   "metadata": {},
   "outputs": [],
   "source": [
    "# Define model variables\n",
    "X = df.drop(columns=[\"ChurnStatus\"])\n",
    "y = df[\"ChurnStatus\"]"
   ]
  },
  {
   "cell_type": "markdown",
   "metadata": {},
   "source": [
    "Apply `train_test_split` to split variables' arrays into random train and test subsets: "
   ]
  },
  {
   "cell_type": "code",
   "execution_count": 5,
   "metadata": {},
   "outputs": [],
   "source": [
    "# Split train, test sets for modeling\n",
    "X_train, X_test, y_train, y_test = train_test_split(X, y, test_size=0.2, random_state=42, stratify=y)"
   ]
  },
  {
   "cell_type": "markdown",
   "metadata": {},
   "source": [
    "To handle **class imbalance** issue based on low number of churners (**only ~ 20% of the dataset**), we use **_SMOTE_** (Synthetic Minority Oversampling Technique) to boost the minority class in training set only."
   ]
  },
  {
   "cell_type": "code",
   "execution_count": 8,
   "metadata": {},
   "outputs": [],
   "source": [
    "# Apply SMOTE\n",
    "smote = SMOTE(random_state=42)\n",
    "X_resampled, y_resampled = smote.fit_resample(X_train, y_train)"
   ]
  },
  {
   "cell_type": "markdown",
   "metadata": {},
   "source": [
    "### **Crafting the Predictive Blueprint** "
   ]
  },
  {
   "cell_type": "markdown",
   "metadata": {},
   "source": [
    "The idea is to iterate on various models, tuning hyperparameters, and validating the model to ensure it generalises well to new data; therefore, we will train a collection of models to assess their overall performance.\n",
    "\n",
    "For this project, we choose **Logistic Regression**, **Random Forest** and **XGBoost** to train the processed data with a predefined grid of parameters."
   ]
  },
  {
   "cell_type": "code",
   "execution_count": 10,
   "metadata": {},
   "outputs": [],
   "source": [
    "# Define models and parameter grids\n",
    "param_grids = {\n",
    "    \"Logistic Regression\": {\n",
    "        'C': [0.01, 0.1, 1, 10],\n",
    "        'solver': ['liblinear']\n",
    "    },\n",
    "    \"Random Forest\": {\n",
    "        'n_estimators': [100, 200],\n",
    "        'max_depth': [5, 10, None],\n",
    "        'min_samples_split': [2, 5]\n",
    "    },\n",
    "    \"XGBoost\": {\n",
    "        'n_estimators': [100, 200],\n",
    "        'max_depth': [3, 5],\n",
    "        'learning_rate': [0.05, 0.1]\n",
    "    }\n",
    "}\n",
    "\n",
    "models = {\n",
    "    \"Logistic Regression\": LogisticRegression(max_iter=1000, class_weight=\"balanced\"),\n",
    "    \"Random Forest\": RandomForestClassifier(random_state=42),\n",
    "    \"XGBoost\": XGBClassifier(use_label_encoder=False, eval_metric='logloss', random_state=42)\n",
    "}"
   ]
  },
  {
   "cell_type": "markdown",
   "metadata": {},
   "source": [
    "Now we can fit these models with the resampled data, then evaluate their performance via confusion matrix and metrics such as precision score, recall and F1 score."
   ]
  },
  {
   "cell_type": "code",
   "execution_count": 16,
   "metadata": {},
   "outputs": [
    {
     "name": "stdout",
     "output_type": "stream",
     "text": [
      "\n",
      "Tuning and evaluating Logistic Regression...\n",
      "Best Parameters: {'C': 0.1, 'solver': 'liblinear'}\n",
      "[[90 69]\n",
      " [28 13]]\n",
      "              precision    recall  f1-score   support\n",
      "\n",
      "           0       0.76      0.57      0.65       159\n",
      "           1       0.16      0.32      0.21        41\n",
      "\n",
      "    accuracy                           0.52       200\n",
      "   macro avg       0.46      0.44      0.43       200\n",
      "weighted avg       0.64      0.52      0.56       200\n",
      "\n",
      "Precision: 0.15853658536585366\n",
      "Recall: 0.3170731707317073\n",
      "F1 Score: 0.21138211382113822\n",
      "\n",
      "Tuning and evaluating Random Forest...\n",
      "Best Parameters: {'max_depth': None, 'min_samples_split': 2, 'n_estimators': 200}\n",
      "[[133  26]\n",
      " [ 37   4]]\n",
      "              precision    recall  f1-score   support\n",
      "\n",
      "           0       0.78      0.84      0.81       159\n",
      "           1       0.13      0.10      0.11        41\n",
      "\n",
      "    accuracy                           0.69       200\n",
      "   macro avg       0.46      0.47      0.46       200\n",
      "weighted avg       0.65      0.69      0.67       200\n",
      "\n",
      "Precision: 0.13333333333333333\n",
      "Recall: 0.0975609756097561\n",
      "F1 Score: 0.11267605633802817\n",
      "\n",
      "Tuning and evaluating XGBoost...\n",
      "Best Parameters: {'learning_rate': 0.05, 'max_depth': 5, 'n_estimators': 200}\n",
      "[[129  30]\n",
      " [ 38   3]]\n",
      "              precision    recall  f1-score   support\n",
      "\n",
      "           0       0.77      0.81      0.79       159\n",
      "           1       0.09      0.07      0.08        41\n",
      "\n",
      "    accuracy                           0.66       200\n",
      "   macro avg       0.43      0.44      0.44       200\n",
      "weighted avg       0.63      0.66      0.65       200\n",
      "\n",
      "Precision: 0.09090909090909091\n",
      "Recall: 0.07317073170731707\n",
      "F1 Score: 0.08108108108108109\n"
     ]
    }
   ],
   "source": [
    "# Grid search and evaluation\n",
    "best_models = {}\n",
    "importances = {}\n",
    "\n",
    "for name, model in models.items():\n",
    "    print(f\"\\nTuning and evaluating {name}...\")\n",
    "    grid = GridSearchCV(model, param_grids[name], cv=5, scoring='f1', n_jobs=-1, error_score='raise')\n",
    "    try:\n",
    "        # fix column names for XGBoost\n",
    "        X_resampled.columns = X_resampled.columns.str.replace(r\"[\\[\\]<>]\", \"\", regex=True)\n",
    "        X_test.columns = X_test.columns.str.replace(r\"[\\[\\]<>]\", \"\", regex=True)\n",
    "\n",
    "        # Train all models\n",
    "        grid.fit(X_resampled, y_resampled)\n",
    "        best_models[name] = grid.best_estimator_\n",
    "        y_pred = grid.predict(X_test)\n",
    "        print(\"Best Parameters:\", grid.best_params_)\n",
    "        print(confusion_matrix(y_test, y_pred))\n",
    "        print(classification_report(y_test, y_pred))\n",
    "        print(\"Precision:\", precision_score(y_test, y_pred))\n",
    "        print(\"Recall:\", recall_score(y_test, y_pred))\n",
    "        print(\"F1 Score:\", f1_score(y_test, y_pred))\n",
    "\n",
    "        # Feature importance (if available)\n",
    "        if hasattr(grid.best_estimator_, 'feature_importances_'):\n",
    "            importances[name] = grid.best_estimator_.feature_importances_\n",
    "    except Exception as e:\n",
    "        print(f\"Model {name} failed during GridSearchCV: {e}\")"
   ]
  },
  {
   "cell_type": "markdown",
   "metadata": {},
   "source": [
    "**Interpretation:**\n",
    "\n",
    "- `Logistic Regression` has a slightly better recall than other models, making it marginally more helpful for flagging potential churners.\n",
    "\n",
    "- `Random Forest` prioritizes accuracy on the majority class but fails to capture churners effectively despite high overall accuracy (**69%**).\n",
    "\n",
    "- `XGBoost` performs worst among the three in identifying churners, possibly over-regularized or constrained by hyperparameters."
   ]
  },
  {
   "cell_type": "code",
   "execution_count": 15,
   "metadata": {},
   "outputs": [
    {
     "data": {
      "image/png": "[encoded data removed]",
      "text/plain": [
       "<Figure size 1000x600 with 1 Axes>"
      ]
     },
     "metadata": {},
     "output_type": "display_data"
    }
   ],
   "source": [
    "# Plot feature importances for tree-based models\n",
    "for name in importances:\n",
    "    plt.figure(figsize=(10, 6))\n",
    "    sorted_idx = np.argsort(importances[name])[-10:]\n",
    "    plt.barh(range(len(sorted_idx)), np.array(X.columns)[sorted_idx], color='skyblue')\n",
    "    plt.title(f\"Top 10 Feature Importances - {name}\")\n",
    "    plt.xlabel(\"Importance\")\n",
    "    plt.xticks(rotation=45)\n",
    "    plt.yticks(range(len(sorted_idx)), np.array(X.columns)[sorted_idx])\n",
    "    plt.show()"
   ]
  }
 ],
 "metadata": {
  "kernelspec": {
   "display_name": "Python 3",
   "language": "python",
   "name": "python3"
  },
  "language_info": {
   "codemirror_mode": {
    "name": "ipython",
    "version": 3
   },
   "file_extension": ".py",
   "mimetype": "text/x-python",
   "name": "python",
   "nbconvert_exporter": "python",
   "pygments_lexer": "ipython3",
   "version": "3.11.9"
  },
  "orig_nbformat": 4
 },
 "nbformat": 4,
 "nbformat_minor": 2
}
